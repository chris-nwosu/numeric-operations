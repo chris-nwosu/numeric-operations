{
 "cells": [
  {
   "cell_type": "code",
   "execution_count": 1,
   "id": "deb80aaa-7cb6-4557-973c-dc99d7f8583d",
   "metadata": {},
   "outputs": [],
   "source": [
    "#Define a list of numbers\n",
    "numbers = [5,3,7,9,2]"
   ]
  },
  {
   "cell_type": "code",
   "execution_count": 3,
   "id": "650302f6-24a8-43a4-8d3d-af73cd4e5a97",
   "metadata": {},
   "outputs": [],
   "source": [
    "#write the logic to calculate the sum of the numbers\n",
    "total_sum = sum(numbers)"
   ]
  },
  {
   "cell_type": "code",
   "execution_count": 4,
   "id": "d3e31074-beeb-4ba6-90e4-adaaaae2fbae",
   "metadata": {},
   "outputs": [
    {
     "data": {
      "text/plain": [
       "26"
      ]
     },
     "execution_count": 4,
     "metadata": {},
     "output_type": "execute_result"
    }
   ],
   "source": [
    "total_sum"
   ]
  },
  {
   "cell_type": "code",
   "execution_count": 5,
   "id": "9cce4361-11bf-4a80-8da7-867000265f86",
   "metadata": {},
   "outputs": [
    {
     "name": "stdout",
     "output_type": "stream",
     "text": [
      "26\n"
     ]
    }
   ],
   "source": [
    "print(total_sum)"
   ]
  },
  {
   "cell_type": "code",
   "execution_count": 9,
   "id": "75b36898-cbd0-4abd-a465-50d857472357",
   "metadata": {},
   "outputs": [
    {
     "name": "stdout",
     "output_type": "stream",
     "text": [
      "5.8\n",
      "26\n"
     ]
    }
   ],
   "source": [
    "# Define a list of numbers\n",
    "numbers =[5,3,7,9,2]\n",
    "grades =[7,3,2,9,8]\n",
    "\n",
    "#write the logic to calculate the sum of the numbers\n",
    "total_number=sum(numbers)\n",
    "average_grade=sum(grades)/5\n",
    "\n",
    "#print total_number\n",
    "print(average_grade)\n",
    "print(total_number)"
   ]
  },
  {
   "cell_type": "markdown",
   "id": "426ea7e1-9d5b-486b-a8b9-5a4524761bb6",
   "metadata": {},
   "source": [
    "#Subtraction FUNCTION"
   ]
  },
  {
   "cell_type": "code",
   "execution_count": null,
   "id": "5515cd6d-fb4b-43f5-80a8-c69369f5c798",
   "metadata": {},
   "outputs": [],
   "source": []
  },
  {
   "cell_type": "code",
   "execution_count": null,
   "id": "32beb100-863c-4498-9a0a-25c296740d5a",
   "metadata": {},
   "outputs": [],
   "source": []
  }
 ],
 "metadata": {
  "kernelspec": {
   "display_name": "Python 3 (ipykernel)",
   "language": "python",
   "name": "python3"
  },
  "language_info": {
   "codemirror_mode": {
    "name": "ipython",
    "version": 3
   },
   "file_extension": ".py",
   "mimetype": "text/x-python",
   "name": "python",
   "nbconvert_exporter": "python",
   "pygments_lexer": "ipython3",
   "version": "3.11.7"
  }
 },
 "nbformat": 4,
 "nbformat_minor": 5
}
